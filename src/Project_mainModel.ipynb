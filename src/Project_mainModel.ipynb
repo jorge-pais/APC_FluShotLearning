{
  "cells": [
    {
      "cell_type": "markdown",
      "metadata": {
        "id": "lToZ0WXC3egh"
      },
      "source": [
        "# Flu Shot Learning - Machine Learning Final Project"
      ]
    },
    {
      "cell_type": "code",
      "execution_count": 1,
      "metadata": {
        "colab": {
          "base_uri": "https://localhost:8080/"
        },
        "id": "IHoYPicK0YIY",
        "outputId": "f0c1525c-5f0b-48ec-e261-5416be1b42c9"
      },
      "outputs": [],
      "source": [
        "# Utilized data saved in google drive\n",
        "\"\"\" from google.colab import drive\n",
        "drive.mount('/content/drive') \"\"\";"
      ]
    },
    {
      "cell_type": "code",
      "execution_count": 4,
      "metadata": {
        "colab": {
          "base_uri": "https://localhost:8080/"
        },
        "id": "MOrl_V_8q8Ea",
        "outputId": "e0525155-1d15-4fea-8c3b-6b3655f3391e"
      },
      "outputs": [],
      "source": [
        "from pathlib import Path\n",
        "\n",
        "import pandas as pd\n",
        "import numpy as np\n",
        "%matplotlib inline\n",
        "import matplotlib.pyplot as plt\n",
        "\n",
        "# Project data in google drive\n",
        "#DATA_PATH = Path.cwd()/\"drive\"/\"MyDrive\"/\"APC\"/\"data\";\n",
        "# Project data from repository\n",
        "DATA_PATH = Path.cwd()/\"..\"/\"data\";\n",
        "\n",
        "features_train = pd.read_csv(\n",
        "    DATA_PATH/\"training_set_features.csv\",\n",
        "    index_col=\"respondent_id\"\n",
        ")\n",
        "\n",
        "labels_train = pd.read_csv(\n",
        "    DATA_PATH/\"training_set_labels.csv\",\n",
        "    index_col=\"respondent_id\"\n",
        ")\n",
        "\n",
        "np.testing.assert_array_equal(features_train.index.values, labels_train.index.values)"
      ]
    },
    {
      "attachments": {},
      "cell_type": "markdown",
      "metadata": {},
      "source": [
        "### Logistic Regression Models"
      ]
    },
    {
      "cell_type": "code",
      "execution_count": 19,
      "metadata": {},
      "outputs": [],
      "source": [
        "from sklearn.preprocessing import StandardScaler, OneHotEncoder, MinMaxScaler\n",
        "from sklearn.impute import SimpleImputer\n",
        "from sklearn.compose import ColumnTransformer\n",
        "\n",
        "from sklearn.linear_model import LogisticRegression\n",
        "from sklearn.naive_bayes import GaussianNB, MultinomialNB\n",
        "from sklearn.multioutput import MultiOutputClassifier\n",
        "from sklearn.tree import DecisionTreeClassifier\n",
        "from sklearn.dummy import DummyClassifier\n",
        "from sklearn.svm import LinearSVC, SVC\n",
        "\n",
        "from catboost import CatBoostClassifier\n",
        "from xgboost import XGBClassifier\n",
        "\n",
        "from sklearn.pipeline import Pipeline\n",
        "from sklearn.model_selection import train_test_split, GridSearchCV\n",
        "from sklearn.metrics import roc_curve, roc_auc_score\n",
        "\n",
        "RANDOM_SEED = 1337 # Fixed random seed for reproducibility"
      ]
    },
    {
      "attachments": {},
      "cell_type": "markdown",
      "metadata": {},
      "source": [
        "Initially we'll experiment with a logistic regression model considering only the numerical features variables. For this it is required to apply some processing to the feature set:\n",
        "- **Scaling**: Transform all features to be on the same scale.\n",
        "- **NA Imputation**: Logistic regression does not handle NA values (i.e when survey respondents leave out answers unfilled). Median imputation will be utilized, which fills these missing values with the median from the training data.\n",
        "\n",
        "For a second model, we'll introduce the categorical features. Since these come in the form of string values, encoding is required to make them work within the logistic regression:\n",
        "- **One-Hot Encoding**: In this form of encoding, different value possibilities within a feature are transformed into new binary variables. This is preferable"
      ]
    },
    {
      "cell_type": "markdown",
      "metadata": {
        "id": "lToZ0WXC3egh"
      },
      "source": [
        "# Flu Shot Learning - Machine Learning Final Project"
      ]
    },
    {
      "cell_type": "code",
      "execution_count": 20,
      "metadata": {},
      "outputs": [
        {
          "data": {
            "text/html": [
              "<style>#sk-container-id-6 {color: black;background-color: white;}#sk-container-id-6 pre{padding: 0;}#sk-container-id-6 div.sk-toggleable {background-color: white;}#sk-container-id-6 label.sk-toggleable__label {cursor: pointer;display: block;width: 100%;margin-bottom: 0;padding: 0.3em;box-sizing: border-box;text-align: center;}#sk-container-id-6 label.sk-toggleable__label-arrow:before {content: \"▸\";float: left;margin-right: 0.25em;color: #696969;}#sk-container-id-6 label.sk-toggleable__label-arrow:hover:before {color: black;}#sk-container-id-6 div.sk-estimator:hover label.sk-toggleable__label-arrow:before {color: black;}#sk-container-id-6 div.sk-toggleable__content {max-height: 0;max-width: 0;overflow: hidden;text-align: left;background-color: #f0f8ff;}#sk-container-id-6 div.sk-toggleable__content pre {margin: 0.2em;color: black;border-radius: 0.25em;background-color: #f0f8ff;}#sk-container-id-6 input.sk-toggleable__control:checked~div.sk-toggleable__content {max-height: 200px;max-width: 100%;overflow: auto;}#sk-container-id-6 input.sk-toggleable__control:checked~label.sk-toggleable__label-arrow:before {content: \"▾\";}#sk-container-id-6 div.sk-estimator input.sk-toggleable__control:checked~label.sk-toggleable__label {background-color: #d4ebff;}#sk-container-id-6 div.sk-label input.sk-toggleable__control:checked~label.sk-toggleable__label {background-color: #d4ebff;}#sk-container-id-6 input.sk-hidden--visually {border: 0;clip: rect(1px 1px 1px 1px);clip: rect(1px, 1px, 1px, 1px);height: 1px;margin: -1px;overflow: hidden;padding: 0;position: absolute;width: 1px;}#sk-container-id-6 div.sk-estimator {font-family: monospace;background-color: #f0f8ff;border: 1px dotted black;border-radius: 0.25em;box-sizing: border-box;margin-bottom: 0.5em;}#sk-container-id-6 div.sk-estimator:hover {background-color: #d4ebff;}#sk-container-id-6 div.sk-parallel-item::after {content: \"\";width: 100%;border-bottom: 1px solid gray;flex-grow: 1;}#sk-container-id-6 div.sk-label:hover label.sk-toggleable__label {background-color: #d4ebff;}#sk-container-id-6 div.sk-serial::before {content: \"\";position: absolute;border-left: 1px solid gray;box-sizing: border-box;top: 0;bottom: 0;left: 50%;z-index: 0;}#sk-container-id-6 div.sk-serial {display: flex;flex-direction: column;align-items: center;background-color: white;padding-right: 0.2em;padding-left: 0.2em;position: relative;}#sk-container-id-6 div.sk-item {position: relative;z-index: 1;}#sk-container-id-6 div.sk-parallel {display: flex;align-items: stretch;justify-content: center;background-color: white;position: relative;}#sk-container-id-6 div.sk-item::before, #sk-container-id-6 div.sk-parallel-item::before {content: \"\";position: absolute;border-left: 1px solid gray;box-sizing: border-box;top: 0;bottom: 0;left: 50%;z-index: -1;}#sk-container-id-6 div.sk-parallel-item {display: flex;flex-direction: column;z-index: 1;position: relative;background-color: white;}#sk-container-id-6 div.sk-parallel-item:first-child::after {align-self: flex-end;width: 50%;}#sk-container-id-6 div.sk-parallel-item:last-child::after {align-self: flex-start;width: 50%;}#sk-container-id-6 div.sk-parallel-item:only-child::after {width: 0;}#sk-container-id-6 div.sk-dashed-wrapped {border: 1px dashed gray;margin: 0 0.4em 0.5em 0.4em;box-sizing: border-box;padding-bottom: 0.4em;background-color: white;}#sk-container-id-6 div.sk-label label {font-family: monospace;font-weight: bold;display: inline-block;line-height: 1.2em;}#sk-container-id-6 div.sk-label-container {text-align: center;}#sk-container-id-6 div.sk-container {/* jupyter's `normalize.less` sets `[hidden] { display: none; }` but bootstrap.min.css set `[hidden] { display: none !important; }` so we also need the `!important` here to be able to override the default hidden behavior on the sphinx rendered scikit-learn.org. See: https://github.com/scikit-learn/scikit-learn/issues/21755 */display: inline-block !important;position: relative;}#sk-container-id-6 div.sk-text-repr-fallback {display: none;}</style><div id=\"sk-container-id-6\" class=\"sk-top-container\"><div class=\"sk-text-repr-fallback\"><pre>Pipeline(steps=[(&#x27;preprocessor&#x27;,\n",
              "                 ColumnTransformer(transformers=[(&#x27;numeric&#x27;,\n",
              "                                                  Pipeline(steps=[(&#x27;standard_scaler&#x27;,\n",
              "                                                                   StandardScaler()),\n",
              "                                                                  (&#x27;simpleImputer&#x27;,\n",
              "                                                                   SimpleImputer(strategy=&#x27;median&#x27;))]),\n",
              "                                                  array([&#x27;h1n1_concern&#x27;, &#x27;h1n1_knowledge&#x27;, &#x27;behavioral_antiviral_meds&#x27;,\n",
              "       &#x27;behavioral_avoidance&#x27;, &#x27;behavioral_face_mask&#x27;,\n",
              "       &#x27;behavioral_wash_hands&#x27;, &#x27;behavioral_large_gatherings&#x27;,\n",
              "       &#x27;b...\n",
              "                                                                   SimpleImputer(strategy=&#x27;most_frequent&#x27;)),\n",
              "                                                                  (&#x27;Encoding&#x27;,\n",
              "                                                                   OneHotEncoder())]),\n",
              "                                                  array([&#x27;age_group&#x27;, &#x27;education&#x27;, &#x27;race&#x27;, &#x27;sex&#x27;, &#x27;income_poverty&#x27;,\n",
              "       &#x27;marital_status&#x27;, &#x27;rent_or_own&#x27;, &#x27;employment_status&#x27;,\n",
              "       &#x27;hhs_geo_region&#x27;, &#x27;census_msa&#x27;, &#x27;employment_industry&#x27;,\n",
              "       &#x27;employment_occupation&#x27;], dtype=object))])),\n",
              "                (&#x27;estimators&#x27;,\n",
              "                 MultiOutputClassifier(estimator=LinearSVC(C=0.1,\n",
              "                                                           random_state=1337)))])</pre><b>In a Jupyter environment, please rerun this cell to show the HTML representation or trust the notebook. <br />On GitHub, the HTML representation is unable to render, please try loading this page with nbviewer.org.</b></div><div class=\"sk-container\" hidden><div class=\"sk-item sk-dashed-wrapped\"><div class=\"sk-label-container\"><div class=\"sk-label sk-toggleable\"><input class=\"sk-toggleable__control sk-hidden--visually\" id=\"sk-estimator-id-56\" type=\"checkbox\" ><label for=\"sk-estimator-id-56\" class=\"sk-toggleable__label sk-toggleable__label-arrow\">Pipeline</label><div class=\"sk-toggleable__content\"><pre>Pipeline(steps=[(&#x27;preprocessor&#x27;,\n",
              "                 ColumnTransformer(transformers=[(&#x27;numeric&#x27;,\n",
              "                                                  Pipeline(steps=[(&#x27;standard_scaler&#x27;,\n",
              "                                                                   StandardScaler()),\n",
              "                                                                  (&#x27;simpleImputer&#x27;,\n",
              "                                                                   SimpleImputer(strategy=&#x27;median&#x27;))]),\n",
              "                                                  array([&#x27;h1n1_concern&#x27;, &#x27;h1n1_knowledge&#x27;, &#x27;behavioral_antiviral_meds&#x27;,\n",
              "       &#x27;behavioral_avoidance&#x27;, &#x27;behavioral_face_mask&#x27;,\n",
              "       &#x27;behavioral_wash_hands&#x27;, &#x27;behavioral_large_gatherings&#x27;,\n",
              "       &#x27;b...\n",
              "                                                                   SimpleImputer(strategy=&#x27;most_frequent&#x27;)),\n",
              "                                                                  (&#x27;Encoding&#x27;,\n",
              "                                                                   OneHotEncoder())]),\n",
              "                                                  array([&#x27;age_group&#x27;, &#x27;education&#x27;, &#x27;race&#x27;, &#x27;sex&#x27;, &#x27;income_poverty&#x27;,\n",
              "       &#x27;marital_status&#x27;, &#x27;rent_or_own&#x27;, &#x27;employment_status&#x27;,\n",
              "       &#x27;hhs_geo_region&#x27;, &#x27;census_msa&#x27;, &#x27;employment_industry&#x27;,\n",
              "       &#x27;employment_occupation&#x27;], dtype=object))])),\n",
              "                (&#x27;estimators&#x27;,\n",
              "                 MultiOutputClassifier(estimator=LinearSVC(C=0.1,\n",
              "                                                           random_state=1337)))])</pre></div></div></div><div class=\"sk-serial\"><div class=\"sk-item sk-dashed-wrapped\"><div class=\"sk-label-container\"><div class=\"sk-label sk-toggleable\"><input class=\"sk-toggleable__control sk-hidden--visually\" id=\"sk-estimator-id-57\" type=\"checkbox\" ><label for=\"sk-estimator-id-57\" class=\"sk-toggleable__label sk-toggleable__label-arrow\">preprocessor: ColumnTransformer</label><div class=\"sk-toggleable__content\"><pre>ColumnTransformer(transformers=[(&#x27;numeric&#x27;,\n",
              "                                 Pipeline(steps=[(&#x27;standard_scaler&#x27;,\n",
              "                                                  StandardScaler()),\n",
              "                                                 (&#x27;simpleImputer&#x27;,\n",
              "                                                  SimpleImputer(strategy=&#x27;median&#x27;))]),\n",
              "                                 array([&#x27;h1n1_concern&#x27;, &#x27;h1n1_knowledge&#x27;, &#x27;behavioral_antiviral_meds&#x27;,\n",
              "       &#x27;behavioral_avoidance&#x27;, &#x27;behavioral_face_mask&#x27;,\n",
              "       &#x27;behavioral_wash_hands&#x27;, &#x27;behavioral_large_gatherings&#x27;,\n",
              "       &#x27;behavioral_outside_home&#x27;, &#x27;behavio...\n",
              "       &#x27;household_children&#x27;], dtype=object)),\n",
              "                                (&#x27;categorical&#x27;,\n",
              "                                 Pipeline(steps=[(&#x27;Imputer&#x27;,\n",
              "                                                  SimpleImputer(strategy=&#x27;most_frequent&#x27;)),\n",
              "                                                 (&#x27;Encoding&#x27;,\n",
              "                                                  OneHotEncoder())]),\n",
              "                                 array([&#x27;age_group&#x27;, &#x27;education&#x27;, &#x27;race&#x27;, &#x27;sex&#x27;, &#x27;income_poverty&#x27;,\n",
              "       &#x27;marital_status&#x27;, &#x27;rent_or_own&#x27;, &#x27;employment_status&#x27;,\n",
              "       &#x27;hhs_geo_region&#x27;, &#x27;census_msa&#x27;, &#x27;employment_industry&#x27;,\n",
              "       &#x27;employment_occupation&#x27;], dtype=object))])</pre></div></div></div><div class=\"sk-parallel\"><div class=\"sk-parallel-item\"><div class=\"sk-item\"><div class=\"sk-label-container\"><div class=\"sk-label sk-toggleable\"><input class=\"sk-toggleable__control sk-hidden--visually\" id=\"sk-estimator-id-58\" type=\"checkbox\" ><label for=\"sk-estimator-id-58\" class=\"sk-toggleable__label sk-toggleable__label-arrow\">numeric</label><div class=\"sk-toggleable__content\"><pre>[&#x27;h1n1_concern&#x27; &#x27;h1n1_knowledge&#x27; &#x27;behavioral_antiviral_meds&#x27;\n",
              " &#x27;behavioral_avoidance&#x27; &#x27;behavioral_face_mask&#x27; &#x27;behavioral_wash_hands&#x27;\n",
              " &#x27;behavioral_large_gatherings&#x27; &#x27;behavioral_outside_home&#x27;\n",
              " &#x27;behavioral_touch_face&#x27; &#x27;doctor_recc_h1n1&#x27; &#x27;doctor_recc_seasonal&#x27;\n",
              " &#x27;chronic_med_condition&#x27; &#x27;child_under_6_months&#x27; &#x27;health_worker&#x27;\n",
              " &#x27;health_insurance&#x27; &#x27;opinion_h1n1_vacc_effective&#x27; &#x27;opinion_h1n1_risk&#x27;\n",
              " &#x27;opinion_h1n1_sick_from_vacc&#x27; &#x27;opinion_seas_vacc_effective&#x27;\n",
              " &#x27;opinion_seas_risk&#x27; &#x27;opinion_seas_sick_from_vacc&#x27; &#x27;household_adults&#x27;\n",
              " &#x27;household_children&#x27;]</pre></div></div></div><div class=\"sk-serial\"><div class=\"sk-item\"><div class=\"sk-serial\"><div class=\"sk-item\"><div class=\"sk-estimator sk-toggleable\"><input class=\"sk-toggleable__control sk-hidden--visually\" id=\"sk-estimator-id-59\" type=\"checkbox\" ><label for=\"sk-estimator-id-59\" class=\"sk-toggleable__label sk-toggleable__label-arrow\">StandardScaler</label><div class=\"sk-toggleable__content\"><pre>StandardScaler()</pre></div></div></div><div class=\"sk-item\"><div class=\"sk-estimator sk-toggleable\"><input class=\"sk-toggleable__control sk-hidden--visually\" id=\"sk-estimator-id-60\" type=\"checkbox\" ><label for=\"sk-estimator-id-60\" class=\"sk-toggleable__label sk-toggleable__label-arrow\">SimpleImputer</label><div class=\"sk-toggleable__content\"><pre>SimpleImputer(strategy=&#x27;median&#x27;)</pre></div></div></div></div></div></div></div></div><div class=\"sk-parallel-item\"><div class=\"sk-item\"><div class=\"sk-label-container\"><div class=\"sk-label sk-toggleable\"><input class=\"sk-toggleable__control sk-hidden--visually\" id=\"sk-estimator-id-61\" type=\"checkbox\" ><label for=\"sk-estimator-id-61\" class=\"sk-toggleable__label sk-toggleable__label-arrow\">categorical</label><div class=\"sk-toggleable__content\"><pre>[&#x27;age_group&#x27; &#x27;education&#x27; &#x27;race&#x27; &#x27;sex&#x27; &#x27;income_poverty&#x27; &#x27;marital_status&#x27;\n",
              " &#x27;rent_or_own&#x27; &#x27;employment_status&#x27; &#x27;hhs_geo_region&#x27; &#x27;census_msa&#x27;\n",
              " &#x27;employment_industry&#x27; &#x27;employment_occupation&#x27;]</pre></div></div></div><div class=\"sk-serial\"><div class=\"sk-item\"><div class=\"sk-serial\"><div class=\"sk-item\"><div class=\"sk-estimator sk-toggleable\"><input class=\"sk-toggleable__control sk-hidden--visually\" id=\"sk-estimator-id-62\" type=\"checkbox\" ><label for=\"sk-estimator-id-62\" class=\"sk-toggleable__label sk-toggleable__label-arrow\">SimpleImputer</label><div class=\"sk-toggleable__content\"><pre>SimpleImputer(strategy=&#x27;most_frequent&#x27;)</pre></div></div></div><div class=\"sk-item\"><div class=\"sk-estimator sk-toggleable\"><input class=\"sk-toggleable__control sk-hidden--visually\" id=\"sk-estimator-id-63\" type=\"checkbox\" ><label for=\"sk-estimator-id-63\" class=\"sk-toggleable__label sk-toggleable__label-arrow\">OneHotEncoder</label><div class=\"sk-toggleable__content\"><pre>OneHotEncoder()</pre></div></div></div></div></div></div></div></div></div></div><div class=\"sk-item sk-dashed-wrapped\"><div class=\"sk-label-container\"><div class=\"sk-label sk-toggleable\"><input class=\"sk-toggleable__control sk-hidden--visually\" id=\"sk-estimator-id-64\" type=\"checkbox\" ><label for=\"sk-estimator-id-64\" class=\"sk-toggleable__label sk-toggleable__label-arrow\">estimators: MultiOutputClassifier</label><div class=\"sk-toggleable__content\"><pre>MultiOutputClassifier(estimator=LinearSVC(C=0.1, random_state=1337))</pre></div></div></div><div class=\"sk-parallel\"><div class=\"sk-parallel-item\"><div class=\"sk-item\"><div class=\"sk-label-container\"><div class=\"sk-label sk-toggleable\"><input class=\"sk-toggleable__control sk-hidden--visually\" id=\"sk-estimator-id-65\" type=\"checkbox\" ><label for=\"sk-estimator-id-65\" class=\"sk-toggleable__label sk-toggleable__label-arrow\">estimator: LinearSVC</label><div class=\"sk-toggleable__content\"><pre>LinearSVC(C=0.1, random_state=1337)</pre></div></div></div><div class=\"sk-serial\"><div class=\"sk-item\"><div class=\"sk-estimator sk-toggleable\"><input class=\"sk-toggleable__control sk-hidden--visually\" id=\"sk-estimator-id-66\" type=\"checkbox\" ><label for=\"sk-estimator-id-66\" class=\"sk-toggleable__label sk-toggleable__label-arrow\">LinearSVC</label><div class=\"sk-toggleable__content\"><pre>LinearSVC(C=0.1, random_state=1337)</pre></div></div></div></div></div></div></div></div></div></div></div></div>"
            ],
            "text/plain": [
              "Pipeline(steps=[('preprocessor',\n",
              "                 ColumnTransformer(transformers=[('numeric',\n",
              "                                                  Pipeline(steps=[('standard_scaler',\n",
              "                                                                   StandardScaler()),\n",
              "                                                                  ('simpleImputer',\n",
              "                                                                   SimpleImputer(strategy='median'))]),\n",
              "                                                  array(['h1n1_concern', 'h1n1_knowledge', 'behavioral_antiviral_meds',\n",
              "       'behavioral_avoidance', 'behavioral_face_mask',\n",
              "       'behavioral_wash_hands', 'behavioral_large_gatherings',\n",
              "       'b...\n",
              "                                                                   SimpleImputer(strategy='most_frequent')),\n",
              "                                                                  ('Encoding',\n",
              "                                                                   OneHotEncoder())]),\n",
              "                                                  array(['age_group', 'education', 'race', 'sex', 'income_poverty',\n",
              "       'marital_status', 'rent_or_own', 'employment_status',\n",
              "       'hhs_geo_region', 'census_msa', 'employment_industry',\n",
              "       'employment_occupation'], dtype=object))])),\n",
              "                ('estimators',\n",
              "                 MultiOutputClassifier(estimator=LinearSVC(C=0.1,\n",
              "                                                           random_state=1337)))])"
            ]
          },
          "execution_count": 20,
          "metadata": {},
          "output_type": "execute_result"
        }
      ],
      "source": [
        "# Just the numerical features\n",
        "numeric_col_index = features_train.columns[features_train.dtypes != \"object\"].values\n",
        "# Categorical features\n",
        "cat_col_index = features_train.columns[features_train.dtypes == 'object'].values\n",
        "\n",
        "# Scaling and Imputation steps\n",
        "numeric_preprocessing = Pipeline([\n",
        "    ('standard_scaler', StandardScaler()),\n",
        "    #('min_max_scaler', MinMaxScaler(feature_range=(0,1))),\n",
        "    ('simpleImputer', SimpleImputer(strategy='median'))\n",
        "])\n",
        "\n",
        "categorical_preprocessing = Pipeline([\n",
        "    ('Imputer', SimpleImputer(strategy='most_frequent')),\n",
        "    ('Encoding', OneHotEncoder()) # This might not play nice with cat boost``\n",
        "])\n",
        "\n",
        "# Apply the preprocessing steps to a given feature column\n",
        "preprocessor = ColumnTransformer(\n",
        "    transformers=[\n",
        "        (\"numeric\", numeric_preprocessing, numeric_col_index),\n",
        "        (\"categorical\", categorical_preprocessing, cat_col_index),\n",
        "    ], \n",
        "    remainder=\"drop\"\n",
        ")\n",
        "\n",
        "# if the CatBoost Classifier is used, the results are better, but as the categorical features are already being encoded to numerical values (in this case One-Hot encoding)\n",
        "\n",
        "estimators = MultiOutputClassifier(\n",
        "    #estimator=DummyClassifier(strategy='uniform') # Random classifier for benchmarking\n",
        "    estimator=LogisticRegression(penalty=\"l2\", C=1, max_iter=int(1e6), random_state=RANDOM_SEED, class_weight='balanced')\n",
        "    #estimator=CatBoostClassifier(random_seed=RANDOM_SEED)\n",
        "    #estimator=XGBClassifier(random_state = RANDOM_SEED)\n",
        "    #estimator=GaussianNB()\n",
        "    #estimator=MultinomialNB() # has to be used with positive values\n",
        "    #estimator=DecisionTreeClassifier(criterion='log_loss', splitter='random', class_weight='balanced', random_state=RANDOM_SEED)\n",
        ")\n",
        "\n",
        "full_pipeline = Pipeline([\n",
        "    (\"preprocessor\", preprocessor),\n",
        "    (\"estimators\", estimators)\n",
        "])\n",
        "full_pipeline"
      ]
    },
    {
      "attachments": {},
      "cell_type": "markdown",
      "metadata": {},
      "source": [
        "Searching through several models and parameters using Grid Search CV:\n",
        "[Multioutput Classifier with grid search](https://stackoverflow.com/questions/71902957/how-to-use-gridsearchcv-with-multioutputclassifiermlpclassifier-pipeline)"
      ]
    },
    {
      "cell_type": "code",
      "execution_count": null,
      "metadata": {},
      "outputs": [],
      "source": [
        "X_train, X_eval, y_train, y_eval = train_test_split(\n",
        "    features_train,\n",
        "    labels_train,\n",
        "    test_size=0.25, # 25% of data entries will be used for validation\n",
        "    shuffle=True,\n",
        "    stratify=labels_train,\n",
        "    random_state=RANDOM_SEED\n",
        ")\n",
        "\n",
        "#search_space = [{'estimators__estimator': [LogisticRegression(penalty=\"l2\", max_iter=int(1e6), random_state=RANDOM_SEED, class_weight='balanced')], 'estimators__estimator__C': [0.01, 0.1, 1, 10], 'estimators__estimator__penalty': ['l1', 'l2']}]\n",
        "\n",
        "#clf = GridSearchCV(estimator=full_pipeline, param_grid=search_space, scoring='roc_auc', verbose=1)\n",
        "#clf.fit(X_train, y_train)\n",
        "\n",
        "full_pipeline.fit(X_train, y_train)"
      ]
    },
    {
      "cell_type": "code",
      "execution_count": 10,
      "metadata": {},
      "outputs": [
        {
          "data": {
            "text/html": [
              "<style>#sk-container-id-3 {color: black;background-color: white;}#sk-container-id-3 pre{padding: 0;}#sk-container-id-3 div.sk-toggleable {background-color: white;}#sk-container-id-3 label.sk-toggleable__label {cursor: pointer;display: block;width: 100%;margin-bottom: 0;padding: 0.3em;box-sizing: border-box;text-align: center;}#sk-container-id-3 label.sk-toggleable__label-arrow:before {content: \"▸\";float: left;margin-right: 0.25em;color: #696969;}#sk-container-id-3 label.sk-toggleable__label-arrow:hover:before {color: black;}#sk-container-id-3 div.sk-estimator:hover label.sk-toggleable__label-arrow:before {color: black;}#sk-container-id-3 div.sk-toggleable__content {max-height: 0;max-width: 0;overflow: hidden;text-align: left;background-color: #f0f8ff;}#sk-container-id-3 div.sk-toggleable__content pre {margin: 0.2em;color: black;border-radius: 0.25em;background-color: #f0f8ff;}#sk-container-id-3 input.sk-toggleable__control:checked~div.sk-toggleable__content {max-height: 200px;max-width: 100%;overflow: auto;}#sk-container-id-3 input.sk-toggleable__control:checked~label.sk-toggleable__label-arrow:before {content: \"▾\";}#sk-container-id-3 div.sk-estimator input.sk-toggleable__control:checked~label.sk-toggleable__label {background-color: #d4ebff;}#sk-container-id-3 div.sk-label input.sk-toggleable__control:checked~label.sk-toggleable__label {background-color: #d4ebff;}#sk-container-id-3 input.sk-hidden--visually {border: 0;clip: rect(1px 1px 1px 1px);clip: rect(1px, 1px, 1px, 1px);height: 1px;margin: -1px;overflow: hidden;padding: 0;position: absolute;width: 1px;}#sk-container-id-3 div.sk-estimator {font-family: monospace;background-color: #f0f8ff;border: 1px dotted black;border-radius: 0.25em;box-sizing: border-box;margin-bottom: 0.5em;}#sk-container-id-3 div.sk-estimator:hover {background-color: #d4ebff;}#sk-container-id-3 div.sk-parallel-item::after {content: \"\";width: 100%;border-bottom: 1px solid gray;flex-grow: 1;}#sk-container-id-3 div.sk-label:hover label.sk-toggleable__label {background-color: #d4ebff;}#sk-container-id-3 div.sk-serial::before {content: \"\";position: absolute;border-left: 1px solid gray;box-sizing: border-box;top: 0;bottom: 0;left: 50%;z-index: 0;}#sk-container-id-3 div.sk-serial {display: flex;flex-direction: column;align-items: center;background-color: white;padding-right: 0.2em;padding-left: 0.2em;position: relative;}#sk-container-id-3 div.sk-item {position: relative;z-index: 1;}#sk-container-id-3 div.sk-parallel {display: flex;align-items: stretch;justify-content: center;background-color: white;position: relative;}#sk-container-id-3 div.sk-item::before, #sk-container-id-3 div.sk-parallel-item::before {content: \"\";position: absolute;border-left: 1px solid gray;box-sizing: border-box;top: 0;bottom: 0;left: 50%;z-index: -1;}#sk-container-id-3 div.sk-parallel-item {display: flex;flex-direction: column;z-index: 1;position: relative;background-color: white;}#sk-container-id-3 div.sk-parallel-item:first-child::after {align-self: flex-end;width: 50%;}#sk-container-id-3 div.sk-parallel-item:last-child::after {align-self: flex-start;width: 50%;}#sk-container-id-3 div.sk-parallel-item:only-child::after {width: 0;}#sk-container-id-3 div.sk-dashed-wrapped {border: 1px dashed gray;margin: 0 0.4em 0.5em 0.4em;box-sizing: border-box;padding-bottom: 0.4em;background-color: white;}#sk-container-id-3 div.sk-label label {font-family: monospace;font-weight: bold;display: inline-block;line-height: 1.2em;}#sk-container-id-3 div.sk-label-container {text-align: center;}#sk-container-id-3 div.sk-container {/* jupyter's `normalize.less` sets `[hidden] { display: none; }` but bootstrap.min.css set `[hidden] { display: none !important; }` so we also need the `!important` here to be able to override the default hidden behavior on the sphinx rendered scikit-learn.org. See: https://github.com/scikit-learn/scikit-learn/issues/21755 */display: inline-block !important;position: relative;}#sk-container-id-3 div.sk-text-repr-fallback {display: none;}</style><div id=\"sk-container-id-3\" class=\"sk-top-container\"><div class=\"sk-text-repr-fallback\"><pre>Pipeline(steps=[(&#x27;preprocessor&#x27;,\n",
              "                 ColumnTransformer(transformers=[(&#x27;numeric&#x27;,\n",
              "                                                  Pipeline(steps=[(&#x27;standard_scaler&#x27;,\n",
              "                                                                   StandardScaler()),\n",
              "                                                                  (&#x27;simpleImputer&#x27;,\n",
              "                                                                   SimpleImputer(strategy=&#x27;median&#x27;))]),\n",
              "                                                  array([&#x27;h1n1_concern&#x27;, &#x27;h1n1_knowledge&#x27;, &#x27;behavioral_antiviral_meds&#x27;,\n",
              "       &#x27;behavioral_avoidance&#x27;, &#x27;behavioral_face_mask&#x27;,\n",
              "       &#x27;behavioral_wash_hands&#x27;, &#x27;behavioral_large_gatherings&#x27;,\n",
              "       &#x27;b...\n",
              "                                                                   OneHotEncoder())]),\n",
              "                                                  array([&#x27;age_group&#x27;, &#x27;education&#x27;, &#x27;race&#x27;, &#x27;sex&#x27;, &#x27;income_poverty&#x27;,\n",
              "       &#x27;marital_status&#x27;, &#x27;rent_or_own&#x27;, &#x27;employment_status&#x27;,\n",
              "       &#x27;hhs_geo_region&#x27;, &#x27;census_msa&#x27;, &#x27;employment_industry&#x27;,\n",
              "       &#x27;employment_occupation&#x27;], dtype=object))])),\n",
              "                (&#x27;estimators&#x27;,\n",
              "                 MultiOutputClassifier(estimator=LogisticRegression(C=0.1,\n",
              "                                                                    class_weight=&#x27;balanced&#x27;,\n",
              "                                                                    max_iter=1000000,\n",
              "                                                                    random_state=1337)))])</pre><b>In a Jupyter environment, please rerun this cell to show the HTML representation or trust the notebook. <br />On GitHub, the HTML representation is unable to render, please try loading this page with nbviewer.org.</b></div><div class=\"sk-container\" hidden><div class=\"sk-item sk-dashed-wrapped\"><div class=\"sk-label-container\"><div class=\"sk-label sk-toggleable\"><input class=\"sk-toggleable__control sk-hidden--visually\" id=\"sk-estimator-id-24\" type=\"checkbox\" ><label for=\"sk-estimator-id-24\" class=\"sk-toggleable__label sk-toggleable__label-arrow\">Pipeline</label><div class=\"sk-toggleable__content\"><pre>Pipeline(steps=[(&#x27;preprocessor&#x27;,\n",
              "                 ColumnTransformer(transformers=[(&#x27;numeric&#x27;,\n",
              "                                                  Pipeline(steps=[(&#x27;standard_scaler&#x27;,\n",
              "                                                                   StandardScaler()),\n",
              "                                                                  (&#x27;simpleImputer&#x27;,\n",
              "                                                                   SimpleImputer(strategy=&#x27;median&#x27;))]),\n",
              "                                                  array([&#x27;h1n1_concern&#x27;, &#x27;h1n1_knowledge&#x27;, &#x27;behavioral_antiviral_meds&#x27;,\n",
              "       &#x27;behavioral_avoidance&#x27;, &#x27;behavioral_face_mask&#x27;,\n",
              "       &#x27;behavioral_wash_hands&#x27;, &#x27;behavioral_large_gatherings&#x27;,\n",
              "       &#x27;b...\n",
              "                                                                   OneHotEncoder())]),\n",
              "                                                  array([&#x27;age_group&#x27;, &#x27;education&#x27;, &#x27;race&#x27;, &#x27;sex&#x27;, &#x27;income_poverty&#x27;,\n",
              "       &#x27;marital_status&#x27;, &#x27;rent_or_own&#x27;, &#x27;employment_status&#x27;,\n",
              "       &#x27;hhs_geo_region&#x27;, &#x27;census_msa&#x27;, &#x27;employment_industry&#x27;,\n",
              "       &#x27;employment_occupation&#x27;], dtype=object))])),\n",
              "                (&#x27;estimators&#x27;,\n",
              "                 MultiOutputClassifier(estimator=LogisticRegression(C=0.1,\n",
              "                                                                    class_weight=&#x27;balanced&#x27;,\n",
              "                                                                    max_iter=1000000,\n",
              "                                                                    random_state=1337)))])</pre></div></div></div><div class=\"sk-serial\"><div class=\"sk-item sk-dashed-wrapped\"><div class=\"sk-label-container\"><div class=\"sk-label sk-toggleable\"><input class=\"sk-toggleable__control sk-hidden--visually\" id=\"sk-estimator-id-25\" type=\"checkbox\" ><label for=\"sk-estimator-id-25\" class=\"sk-toggleable__label sk-toggleable__label-arrow\">preprocessor: ColumnTransformer</label><div class=\"sk-toggleable__content\"><pre>ColumnTransformer(transformers=[(&#x27;numeric&#x27;,\n",
              "                                 Pipeline(steps=[(&#x27;standard_scaler&#x27;,\n",
              "                                                  StandardScaler()),\n",
              "                                                 (&#x27;simpleImputer&#x27;,\n",
              "                                                  SimpleImputer(strategy=&#x27;median&#x27;))]),\n",
              "                                 array([&#x27;h1n1_concern&#x27;, &#x27;h1n1_knowledge&#x27;, &#x27;behavioral_antiviral_meds&#x27;,\n",
              "       &#x27;behavioral_avoidance&#x27;, &#x27;behavioral_face_mask&#x27;,\n",
              "       &#x27;behavioral_wash_hands&#x27;, &#x27;behavioral_large_gatherings&#x27;,\n",
              "       &#x27;behavioral_outside_home&#x27;, &#x27;behavio...\n",
              "       &#x27;household_children&#x27;], dtype=object)),\n",
              "                                (&#x27;categorical&#x27;,\n",
              "                                 Pipeline(steps=[(&#x27;Imputer&#x27;,\n",
              "                                                  SimpleImputer(strategy=&#x27;most_frequent&#x27;)),\n",
              "                                                 (&#x27;Encoding&#x27;,\n",
              "                                                  OneHotEncoder())]),\n",
              "                                 array([&#x27;age_group&#x27;, &#x27;education&#x27;, &#x27;race&#x27;, &#x27;sex&#x27;, &#x27;income_poverty&#x27;,\n",
              "       &#x27;marital_status&#x27;, &#x27;rent_or_own&#x27;, &#x27;employment_status&#x27;,\n",
              "       &#x27;hhs_geo_region&#x27;, &#x27;census_msa&#x27;, &#x27;employment_industry&#x27;,\n",
              "       &#x27;employment_occupation&#x27;], dtype=object))])</pre></div></div></div><div class=\"sk-parallel\"><div class=\"sk-parallel-item\"><div class=\"sk-item\"><div class=\"sk-label-container\"><div class=\"sk-label sk-toggleable\"><input class=\"sk-toggleable__control sk-hidden--visually\" id=\"sk-estimator-id-26\" type=\"checkbox\" ><label for=\"sk-estimator-id-26\" class=\"sk-toggleable__label sk-toggleable__label-arrow\">numeric</label><div class=\"sk-toggleable__content\"><pre>[&#x27;h1n1_concern&#x27; &#x27;h1n1_knowledge&#x27; &#x27;behavioral_antiviral_meds&#x27;\n",
              " &#x27;behavioral_avoidance&#x27; &#x27;behavioral_face_mask&#x27; &#x27;behavioral_wash_hands&#x27;\n",
              " &#x27;behavioral_large_gatherings&#x27; &#x27;behavioral_outside_home&#x27;\n",
              " &#x27;behavioral_touch_face&#x27; &#x27;doctor_recc_h1n1&#x27; &#x27;doctor_recc_seasonal&#x27;\n",
              " &#x27;chronic_med_condition&#x27; &#x27;child_under_6_months&#x27; &#x27;health_worker&#x27;\n",
              " &#x27;health_insurance&#x27; &#x27;opinion_h1n1_vacc_effective&#x27; &#x27;opinion_h1n1_risk&#x27;\n",
              " &#x27;opinion_h1n1_sick_from_vacc&#x27; &#x27;opinion_seas_vacc_effective&#x27;\n",
              " &#x27;opinion_seas_risk&#x27; &#x27;opinion_seas_sick_from_vacc&#x27; &#x27;household_adults&#x27;\n",
              " &#x27;household_children&#x27;]</pre></div></div></div><div class=\"sk-serial\"><div class=\"sk-item\"><div class=\"sk-serial\"><div class=\"sk-item\"><div class=\"sk-estimator sk-toggleable\"><input class=\"sk-toggleable__control sk-hidden--visually\" id=\"sk-estimator-id-27\" type=\"checkbox\" ><label for=\"sk-estimator-id-27\" class=\"sk-toggleable__label sk-toggleable__label-arrow\">StandardScaler</label><div class=\"sk-toggleable__content\"><pre>StandardScaler()</pre></div></div></div><div class=\"sk-item\"><div class=\"sk-estimator sk-toggleable\"><input class=\"sk-toggleable__control sk-hidden--visually\" id=\"sk-estimator-id-28\" type=\"checkbox\" ><label for=\"sk-estimator-id-28\" class=\"sk-toggleable__label sk-toggleable__label-arrow\">SimpleImputer</label><div class=\"sk-toggleable__content\"><pre>SimpleImputer(strategy=&#x27;median&#x27;)</pre></div></div></div></div></div></div></div></div><div class=\"sk-parallel-item\"><div class=\"sk-item\"><div class=\"sk-label-container\"><div class=\"sk-label sk-toggleable\"><input class=\"sk-toggleable__control sk-hidden--visually\" id=\"sk-estimator-id-29\" type=\"checkbox\" ><label for=\"sk-estimator-id-29\" class=\"sk-toggleable__label sk-toggleable__label-arrow\">categorical</label><div class=\"sk-toggleable__content\"><pre>[&#x27;age_group&#x27; &#x27;education&#x27; &#x27;race&#x27; &#x27;sex&#x27; &#x27;income_poverty&#x27; &#x27;marital_status&#x27;\n",
              " &#x27;rent_or_own&#x27; &#x27;employment_status&#x27; &#x27;hhs_geo_region&#x27; &#x27;census_msa&#x27;\n",
              " &#x27;employment_industry&#x27; &#x27;employment_occupation&#x27;]</pre></div></div></div><div class=\"sk-serial\"><div class=\"sk-item\"><div class=\"sk-serial\"><div class=\"sk-item\"><div class=\"sk-estimator sk-toggleable\"><input class=\"sk-toggleable__control sk-hidden--visually\" id=\"sk-estimator-id-30\" type=\"checkbox\" ><label for=\"sk-estimator-id-30\" class=\"sk-toggleable__label sk-toggleable__label-arrow\">SimpleImputer</label><div class=\"sk-toggleable__content\"><pre>SimpleImputer(strategy=&#x27;most_frequent&#x27;)</pre></div></div></div><div class=\"sk-item\"><div class=\"sk-estimator sk-toggleable\"><input class=\"sk-toggleable__control sk-hidden--visually\" id=\"sk-estimator-id-31\" type=\"checkbox\" ><label for=\"sk-estimator-id-31\" class=\"sk-toggleable__label sk-toggleable__label-arrow\">OneHotEncoder</label><div class=\"sk-toggleable__content\"><pre>OneHotEncoder()</pre></div></div></div></div></div></div></div></div></div></div><div class=\"sk-item sk-dashed-wrapped\"><div class=\"sk-label-container\"><div class=\"sk-label sk-toggleable\"><input class=\"sk-toggleable__control sk-hidden--visually\" id=\"sk-estimator-id-32\" type=\"checkbox\" ><label for=\"sk-estimator-id-32\" class=\"sk-toggleable__label sk-toggleable__label-arrow\">estimators: MultiOutputClassifier</label><div class=\"sk-toggleable__content\"><pre>MultiOutputClassifier(estimator=LogisticRegression(C=0.1,\n",
              "                                                   class_weight=&#x27;balanced&#x27;,\n",
              "                                                   max_iter=1000000,\n",
              "                                                   random_state=1337))</pre></div></div></div><div class=\"sk-parallel\"><div class=\"sk-parallel-item\"><div class=\"sk-item\"><div class=\"sk-label-container\"><div class=\"sk-label sk-toggleable\"><input class=\"sk-toggleable__control sk-hidden--visually\" id=\"sk-estimator-id-33\" type=\"checkbox\" ><label for=\"sk-estimator-id-33\" class=\"sk-toggleable__label sk-toggleable__label-arrow\">estimator: LogisticRegression</label><div class=\"sk-toggleable__content\"><pre>LogisticRegression(C=0.1, class_weight=&#x27;balanced&#x27;, max_iter=1000000,\n",
              "                   random_state=1337)</pre></div></div></div><div class=\"sk-serial\"><div class=\"sk-item\"><div class=\"sk-estimator sk-toggleable\"><input class=\"sk-toggleable__control sk-hidden--visually\" id=\"sk-estimator-id-34\" type=\"checkbox\" ><label for=\"sk-estimator-id-34\" class=\"sk-toggleable__label sk-toggleable__label-arrow\">LogisticRegression</label><div class=\"sk-toggleable__content\"><pre>LogisticRegression(C=0.1, class_weight=&#x27;balanced&#x27;, max_iter=1000000,\n",
              "                   random_state=1337)</pre></div></div></div></div></div></div></div></div></div></div></div></div>"
            ],
            "text/plain": [
              "Pipeline(steps=[('preprocessor',\n",
              "                 ColumnTransformer(transformers=[('numeric',\n",
              "                                                  Pipeline(steps=[('standard_scaler',\n",
              "                                                                   StandardScaler()),\n",
              "                                                                  ('simpleImputer',\n",
              "                                                                   SimpleImputer(strategy='median'))]),\n",
              "                                                  array(['h1n1_concern', 'h1n1_knowledge', 'behavioral_antiviral_meds',\n",
              "       'behavioral_avoidance', 'behavioral_face_mask',\n",
              "       'behavioral_wash_hands', 'behavioral_large_gatherings',\n",
              "       'b...\n",
              "                                                                   OneHotEncoder())]),\n",
              "                                                  array(['age_group', 'education', 'race', 'sex', 'income_poverty',\n",
              "       'marital_status', 'rent_or_own', 'employment_status',\n",
              "       'hhs_geo_region', 'census_msa', 'employment_industry',\n",
              "       'employment_occupation'], dtype=object))])),\n",
              "                ('estimators',\n",
              "                 MultiOutputClassifier(estimator=LogisticRegression(C=0.1,\n",
              "                                                                    class_weight='balanced',\n",
              "                                                                    max_iter=1000000,\n",
              "                                                                    random_state=1337)))])"
            ]
          },
          "execution_count": 10,
          "metadata": {},
          "output_type": "execute_result"
        }
      ],
      "source": [
        "clf.best_estimator_"
      ]
    },
    {
      "cell_type": "markdown",
      "metadata": {},
      "source": [
        "#### Training and Evaluation"
      ]
    },
    {
      "cell_type": "code",
      "execution_count": 26,
      "metadata": {},
      "outputs": [
        {
          "name": "stdout",
          "output_type": "stream",
          "text": [
            "[[0 1]\n",
            " [0 1]\n",
            " [0 0]\n",
            " ...\n",
            " [0 1]\n",
            " [0 1]\n",
            " [0 0]]\n"
          ]
        }
      ],
      "source": [
        "# Split the training data into two data sets, training and evaluation\n",
        "X_train, X_eval, y_train, y_eval = train_test_split(\n",
        "    features_train,\n",
        "    labels_train,\n",
        "    test_size=0.25, # 25% of data entries will be used for validation\n",
        "    shuffle=True,\n",
        "    stratify=labels_train,\n",
        "    random_state=RANDOM_SEED\n",
        ")\n",
        "\n",
        "# Train the model\n",
        "full_pipeline.fit(X_train, y_train)\n",
        "# Evaluate\n",
        "preds = full_pipeline.predict(X_eval);\n",
        "print(preds)"
      ]
    },
    {
      "cell_type": "markdown",
      "metadata": {},
      "source": [
        "For the predictions, the pipeline has returned two arrays of predictions, one for each label `seasonal_vaccine` and `h1n1_vaccine`. Within each vector there are two classes, 0 and 1, so we'll only need the values of the second column (which correspond to the probability of having taken the vaccine)"
      ]
    },
    {
      "cell_type": "code",
      "execution_count": 28,
      "metadata": {},
      "outputs": [
        {
          "ename": "IndexError",
          "evalue": "too many indices for array: array is 1-dimensional, but 2 were indexed",
          "output_type": "error",
          "traceback": [
            "\u001b[0;31m---------------------------------------------------------------------------\u001b[0m",
            "\u001b[0;31mIndexError\u001b[0m                                Traceback (most recent call last)",
            "Cell \u001b[0;32mIn [28], line 2\u001b[0m\n\u001b[1;32m      1\u001b[0m y_preds \u001b[39m=\u001b[39m pd\u001b[39m.\u001b[39mDataFrame({\n\u001b[0;32m----> 2\u001b[0m     \u001b[39m\"\u001b[39m\u001b[39mh1n1_vaccine\u001b[39m\u001b[39m\"\u001b[39m: preds[\u001b[39m0\u001b[39;49m][:, \u001b[39m1\u001b[39;49m],\n\u001b[1;32m      3\u001b[0m     \u001b[39m\"\u001b[39m\u001b[39mseasonal_vaccine\u001b[39m\u001b[39m\"\u001b[39m: preds[\u001b[39m1\u001b[39m][:, \u001b[39m1\u001b[39m],\n\u001b[1;32m      4\u001b[0m     },\n\u001b[1;32m      5\u001b[0m     index \u001b[39m=\u001b[39m y_eval\u001b[39m.\u001b[39mindex\n\u001b[1;32m      6\u001b[0m )\n\u001b[1;32m      7\u001b[0m y_preds\u001b[39m.\u001b[39mhead()\n",
            "\u001b[0;31mIndexError\u001b[0m: too many indices for array: array is 1-dimensional, but 2 were indexed"
          ]
        }
      ],
      "source": [
        "y_preds = pd.DataFrame({\n",
        "    \"h1n1_vaccine\": preds[0][:, 1],\n",
        "    \"seasonal_vaccine\": preds[1][:, 1],\n",
        "    },\n",
        "    index = y_eval.index\n",
        ")\n",
        "y_preds.head()"
      ]
    },
    {
      "attachments": {},
      "cell_type": "markdown",
      "metadata": {},
      "source": [
        "#### Performance Metrics (ROC)\n",
        "\n",
        "To measure the performance of the classifications performed between different classifiers, the ROC (Receiver Operating Characteristic) metric was utilized. The ROC is a type of plot used in binary classifiers, which measures the True Positive Rate against the False Positive Rate for different classifier thresholds. To obtain a quantitative measurement of the performance obtained, it it possible to take the area beneath the curve."
      ]
    },
    {
      "cell_type": "code",
      "execution_count": 17,
      "metadata": {},
      "outputs": [
        {
          "name": "stdout",
          "output_type": "stream",
          "text": [
            "0.6727299792933743\n"
          ]
        },
        {
          "data": {
            "image/png": "[encoded data removed]",
            "text/plain": [
              "<Figure size 700x350 with 2 Axes>"
            ]
          },
          "metadata": {},
          "output_type": "display_data"
        }
      ],
      "source": [
        "def plot_roc(y_true, y_score, label_name, ax : plt.Axes):\n",
        "    fpr, tpr, thresholds = roc_curve(y_true, y_score)\n",
        "    ax.plot(fpr, tpr)\n",
        "    ax.plot([0, 1], [0, 1], color='grey', linestyle='--')\n",
        "    ax.set_ylabel('TPR')\n",
        "    ax.set_xlabel('FPR')\n",
        "    ax.set_title(f\"{label_name}: AUC = {roc_auc_score(y_true, y_score):.4f}\")\n",
        "\n",
        "fig, ax = plt.subplots(1, 2, figsize=(7, 3.5))\n",
        "\n",
        "plot_roc(y_eval['h1n1_vaccine'], y_preds['h1n1_vaccine'], 'h1n1_vaccine', ax=ax[0])\n",
        "plot_roc(y_eval['seasonal_vaccine'], y_preds['seasonal_vaccine'], 'seasonal_vaccine', ax=ax[1])\n",
        "fig.tight_layout()\n",
        "\n",
        "# Final score,\n",
        "print(roc_auc_score(y_eval, y_preds))"
      ]
    },
    {
      "cell_type": "markdown",
      "metadata": {},
      "source": [
        "### Generating predictions for the competition"
      ]
    },
    {
      "attachments": {},
      "cell_type": "markdown",
      "metadata": {},
      "source": [
        "Before generating predictions for the competition, we'll train the model once again but now using the entire training set."
      ]
    },
    {
      "cell_type": "code",
      "execution_count": 15,
      "metadata": {},
      "outputs": [],
      "source": [
        "# Train the model once again using the entire training dataset\n",
        "clf.best_estimator_.fit(features_train, labels_train);\n",
        "full_pipeline.fit(features_train, labels_train);"
      ]
    },
    {
      "cell_type": "code",
      "execution_count": 17,
      "metadata": {},
      "outputs": [],
      "source": [
        "from os import makedirs\n",
        "\"\"\" Model should be a class containing a function named predict_proba()\n",
        "\"\"\"\n",
        "def makeSubmissionCSV(model, outputFilename):\n",
        "    test_features = pd.read_csv(DATA_PATH / \"test_set_features.csv\", index_col=\"respondent_id\")\n",
        "    # Run the competition's test set to generate predictions\n",
        "    test_probas = model.predict_proba(test_features)\n",
        "\n",
        "    submission = pd.read_csv(DATA_PATH / \"submission_format.csv\", index_col = \"respondent_id\")\n",
        "    # Verify that the columns are in the right order\n",
        "    np.testing.assert_array_equal(test_features.index.values,\n",
        "        submission.index.values)\n",
        "\n",
        "    # Select the probabilities a person has taken each vaccine\n",
        "    submission[\"h1n1_vaccine\"] = test_probas[0][:, 1]\n",
        "    submission[\"seasonal_vaccine\"] = test_probas[1][:, 1]\n",
        "\n",
        "    makedirs(Path.cwd().parent / \"out\", exist_ok=True); # create if non-existent\n",
        "    submission.to_csv(Path.cwd().parent / \"out\" / outputFilename, index=True)\n",
        "\n",
        "makeSubmissionCSV(clf.best_estimator_, \"logistic_C0.01_submission.csv\")"
      ]
    }
  ],
  "metadata": {
    "colab": {
      "provenance": []
    },
    "kernelspec": {
      "display_name": "Python 3.10.8 64-bit",
      "language": "python",
      "name": "python3"
    },
    "language_info": {
      "codemirror_mode": {
        "name": "ipython",
        "version": 3
      },
      "file_extension": ".py",
      "mimetype": "text/x-python",
      "name": "python",
      "nbconvert_exporter": "python",
      "pygments_lexer": "ipython3",
      "version": "3.10.8"
    },
    "vscode": {
      "interpreter": {
        "hash": "e7370f93d1d0cde622a1f8e1c04877d8463912d04d973331ad4851f04de6915a"
      }
    }
  },
  "nbformat": 4,
  "nbformat_minor": 0
}
